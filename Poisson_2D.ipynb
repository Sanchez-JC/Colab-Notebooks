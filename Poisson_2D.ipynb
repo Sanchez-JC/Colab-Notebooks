{
  "nbformat": 4,
  "nbformat_minor": 0,
  "metadata": {
    "colab": {
      "provenance": [],
      "authorship_tag": "ABX9TyMfxqFBGzp4nVF++DwQ5E/b",
      "include_colab_link": true
    },
    "kernelspec": {
      "name": "python3",
      "display_name": "Python 3"
    },
    "language_info": {
      "name": "python"
    }
  },
  "cells": [
    {
      "cell_type": "markdown",
      "metadata": {
        "id": "view-in-github",
        "colab_type": "text"
      },
      "source": [
        "<a href=\"https://colab.research.google.com/github/Sanchez-JC/Colab-Notebooks/blob/main/Poisson_2D.ipynb\" target=\"_parent\"><img src=\"https://colab.research.google.com/assets/colab-badge.svg\" alt=\"Open In Colab\"/></a>"
      ]
    },
    {
      "cell_type": "code",
      "source": [
        "#@title Importar librerías\n",
        "import numpy as np\n",
        "import matplotlib.pyplot as plt\n",
        "import scipy.constants as sc\n",
        "import requests\n",
        "exec(requests.get(\"https://raw.githubusercontent.com/Sanchez-JC/Functions_py/refs/heads/main/progress_bar.py\").text)"
      ],
      "metadata": {
        "id": "73bXO6iOfrMM",
        "cellView": "form"
      },
      "execution_count": 1,
      "outputs": []
    },
    {
      "cell_type": "code",
      "source": [
        "#@title Creación de malla\n",
        "Npx = 100\n",
        "Npy = 100\n",
        "\n",
        "xa = 0\n",
        "xb = 2\n",
        "hx = (xb-xa)/(Npx-1)\n",
        "ya = 0\n",
        "yb = 1\n",
        "hy = (yb-ya)/(Npy-1)\n",
        "\n",
        "x = [xa + hx * i for i in range(Npx)]\n",
        "y = [ya + hy * j for j in range(Npy)]"
      ],
      "metadata": {
        "id": "fvorDdJEeLq1",
        "cellView": "form"
      },
      "execution_count": 69,
      "outputs": []
    },
    {
      "cell_type": "code",
      "source": [
        "#@title Variables\n",
        "#VARIABLES AUXILIARES\n",
        "\n",
        "def SOURCE(x, y):\n",
        "  return 0\n",
        "\n",
        "tol = 10e-5\n",
        "err_local = 0\n",
        "err_max = 0\n",
        "it_max = int(1e6)\n",
        "cte_1 = 0.5*pow(hy,2)/(pow(hx,2)+pow(hy,2))\n",
        "cte_2 = 0.5*pow(hx,2)/(pow(hx,2)+pow(hy,2))\n",
        "cte_3 = 0.5*pow(hx*hy,2)/(pow(hx,2)+pow(hy,2))\n",
        "\n",
        "phi = np.zeros((Npx, Npy))\n",
        "phi_old = np.zeros((Npx, Npy))\n",
        "\n",
        "progress_bar = progress_bar"
      ],
      "metadata": {
        "id": "gqZHYaw1HuAy",
        "cellView": "form"
      },
      "execution_count": 70,
      "outputs": []
    },
    {
      "cell_type": "code",
      "source": [
        "#@title Condiciones de frontera\n",
        "\n",
        "for j in range(Npy):\n",
        "  phi[0][j] = 0\n",
        "\n",
        "for j in range(Npy):\n",
        "  phi[-1][j] = 0\n",
        "\n",
        "for i in range(Npx):\n",
        "  phi[i][0] = 0\n",
        "\n",
        "for i in range(Npx):\n",
        "  phi[i][-1] = 0"
      ],
      "metadata": {
        "id": "p9e9zLhYHtlr",
        "cellView": "form"
      },
      "execution_count": 71,
      "outputs": []
    },
    {
      "cell_type": "code",
      "source": [
        "#@title Bucle principal (Base)\n",
        "def main():\n",
        "\n",
        "  for it in range(it_max):\n",
        "\n",
        "    for i in range(Npx):  #Guardar solución previa\n",
        "      for j in range(Npy):\n",
        "        phi_old[i][j] = phi[i][j]\n",
        "\n",
        "    for i in range(1, Npx-1): #Calcula nueva solución excepto en la frontera\n",
        "      for j in range(1, Npy-1):\n",
        "        if (0.95 <= x[i] <= 1.05) and (0 < y[j] < 0.4):\n",
        "          phi[i][j] = -1\n",
        "        elif (0.95 <= x[i] <= 1.05) and (0.6 < y[j] < 1):\n",
        "          phi[i][j] = -1\n",
        "        else:\n",
        "          phi[i][j] = cte_1*(phi[i+1][j]+phi[i-1][j]) + cte_2*(phi[i][j+1]+phi[i][j-1]) - cte_3*SOURCE(x[i],y[j])\n",
        "\n",
        "    err_max = 0\n",
        "    for i in range(1, Npx-1): #\n",
        "      for j in range(1, Npy-1):\n",
        "        err_local = abs(phi[i][j] - phi_old[i][j])\n",
        "        if err_local > err_max:\n",
        "          err_max = err_local\n",
        "    if err_max < tol:\n",
        "      progress_bar(tol, err_max)\n",
        "      print(\"\")\n",
        "      print(\"Solución encontrada en \", it, \" iteraciones\")\n",
        "      break\n",
        "\n",
        "    if it % 100 == 0:\n",
        "      progress_bar(tol, err_max)\n",
        "\n",
        "  return\n",
        "\n",
        "main()"
      ],
      "metadata": {
        "id": "lWojykuKjXBh",
        "colab": {
          "base_uri": "https://localhost:8080/"
        },
        "outputId": "9969076e-587a-487c-843a-9237e0214f6d",
        "collapsed": true,
        "cellView": "form"
      },
      "execution_count": 72,
      "outputs": [
        {
          "output_type": "stream",
          "name": "stdout",
          "text": [
            "[==================================================] 100.1%\n",
            "Solución encontrada en  1210  iteraciones\n"
          ]
        }
      ]
    },
    {
      "cell_type": "code",
      "source": [
        "#@title Bucle principal (optimizado)\n",
        "def main():\n",
        "    # Convertir a arrays numpy para operaciones vectorizadas\n",
        "    x_arr = np.array(x)\n",
        "    y_arr = np.array(y)\n",
        "\n",
        "    # Precalcular máscaras para las condiciones especiales\n",
        "    mask_condition1 = (x_arr[:, None] >= 0.95) & (x_arr[:, None] <= 1.05) & (y_arr[None, :] > 0) & (y_arr[None, :] < 0.4)\n",
        "    mask_condition2 = (x_arr[:, None] >= 0.95) & (x_arr[:, None] <= 1.05) & (y_arr[None, :] > 0.6) & (y_arr[None, :] < 1)\n",
        "    special_mask = mask_condition1 | mask_condition2\n",
        "\n",
        "    # Índices internos (excluyendo bordes)\n",
        "    i_idx = slice(1, Npx-1)\n",
        "    j_idx = slice(1, Npy-1)\n",
        "\n",
        "    for it in range(it_max):\n",
        "        # Guardar solución previa (solo la parte interna que cambia)\n",
        "        phi_old[i_idx, j_idx] = phi[i_idx, j_idx]\n",
        "\n",
        "        # Calcular nuevo valor para puntos internos\n",
        "        new_phi = cte_1 * (phi[2:, 1:-1] + phi[:-2, 1:-1]) + \\\n",
        "                 cte_2 * (phi[1:-1, 2:] + phi[1:-1, :-2]) - \\\n",
        "                 cte_3 * SOURCE(x_arr[1:-1, None], y_arr[None, 1:-1])\n",
        "\n",
        "        # Aplicar condiciones especiales\n",
        "        phi[1:-1, 1:-1] = np.where(special_mask[1:-1, 1:-1], -1, new_phi)\n",
        "\n",
        "        # Calcular error máximo (solo en puntos internos)\n",
        "        err_max = np.max(np.abs(phi[1:-1, 1:-1] - phi_old[1:-1, 1:-1]))\n",
        "\n",
        "        if err_max < tol:\n",
        "          progress_bar(tol, err_max)\n",
        "          print(\"\")\n",
        "          print(f\"Solución encontrada en {it} iteraciones\")\n",
        "          break\n",
        "\n",
        "        if it % 100 == 0:\n",
        "            progress_bar(tol, err_max)\n",
        "\n",
        "    return\n",
        "\n",
        "main()"
      ],
      "metadata": {
        "colab": {
          "base_uri": "https://localhost:8080/"
        },
        "cellView": "form",
        "id": "3l_izbNNFt4m",
        "outputId": "18b5fbd5-0e16-44dd-eb88-8f997f77b80e"
      },
      "execution_count": 64,
      "outputs": [
        {
          "output_type": "stream",
          "name": "stdout",
          "text": [
            "[==================================================] 100.2%\n",
            "Solución encontrada en 801 iteraciones\n"
          ]
        }
      ]
    },
    {
      "cell_type": "code",
      "source": [
        "#@title Graficar\n",
        "plt.figure(dpi = 150, figsize=(8, 4))\n",
        "plt.imshow(np.rot90(phi, k=-1), extent=[np.min(x), np.max(x), np.min(y), np.max(y)], origin='lower', cmap='jet')\n",
        "cbar = plt.colorbar(shrink=0.8)\n",
        "plt.xlabel('x')\n",
        "plt.ylabel('y')\n",
        "plt.title(r'$\\Phi (x, y)$')\n",
        "plt.show()"
      ],
      "metadata": {
        "colab": {
          "base_uri": "https://localhost:8080/",
          "height": 515
        },
        "id": "p0ECm1zKksv6",
        "outputId": "036b5ebb-a997-4f7b-922e-8f8d9d705777",
        "cellView": "form"
      },
      "execution_count": 73,
      "outputs": [
        {
          "output_type": "display_data",
          "data": {
            "text/plain": [
              "<Figure size 1200x600 with 2 Axes>"
            ],
            "image/png": "[encoded data removed]"
          },
          "metadata": {}
        }
      ]
    }
  ]
}