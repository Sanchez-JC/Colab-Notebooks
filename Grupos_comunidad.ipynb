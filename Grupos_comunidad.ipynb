{
  "nbformat": 4,
  "nbformat_minor": 0,
  "metadata": {
    "colab": {
      "provenance": [],
      "authorship_tag": "ABX9TyPk4FACKg+85NyRTgT9dl5g",
      "include_colab_link": true
    },
    "kernelspec": {
      "name": "python3",
      "display_name": "Python 3"
    },
    "language_info": {
      "name": "python"
    }
  },
  "cells": [
    {
      "cell_type": "markdown",
      "metadata": {
        "id": "view-in-github",
        "colab_type": "text"
      },
      "source": [
        "<a href=\"https://colab.research.google.com/github/Sanchez-JC/Colab-Notebooks/blob/main/Grupos_comunidad.ipynb\" target=\"_parent\"><img src=\"https://colab.research.google.com/assets/colab-badge.svg\" alt=\"Open In Colab\"/></a>"
      ]
    },
    {
      "cell_type": "code",
      "execution_count": 3,
      "metadata": {
        "id": "9puDSiuAK3ek",
        "outputId": "4818e9c4-dd3d-4c78-c90d-59ac3aba0819",
        "colab": {
          "base_uri": "https://localhost:8080/"
        }
      },
      "outputs": [
        {
          "output_type": "stream",
          "name": "stdout",
          "text": [
            "Grupo  1 \n",
            "\n",
            "Jasbleidy\n",
            "Pablo y María\n",
            "Aidee\n",
            "Joselito y Paulina\n",
            "Cecilia\n",
            "Pedo e Hilma\n",
            "\n",
            "\n",
            "Grupo  2 \n",
            "\n",
            "Nathalie\n",
            "Jhair e Ingrid\n",
            "Orlando y Luz Amalia\n",
            "Omaira\n",
            "Armando y Dairlis\n",
            "José Israel y Yamile\n",
            "\n",
            "\n",
            "Grupo  3 \n",
            "\n",
            "Camilo\n",
            "Fernando y Laura\n",
            "Mariangel\n",
            "Juan y Margarita\n",
            "Luis Carlos y Patricia\n",
            "William y Briyid\n",
            "\n",
            "\n",
            "Grupo  4 \n",
            "\n",
            "German\n",
            "Angélica\n",
            "Martha Ligia\n",
            "María Alejandra\n",
            "Mariana\n",
            "María Cely\n",
            "\n",
            "\n",
            "Nota: Los grupos se hacen con la misma cantidad de hermanos (matrimonios cuentan como 1), con lo que algunos hermanos quedan sin grupo. Se sugiere meter a los hermanos sin grupo para reforzar a los grupos que tienen hermanos que no asisten con frecuencia.\n",
            "Hermanos sin grupo:  ['Carlos y Claudia', 'Daniel', 'Juan Esteban']\n"
          ]
        }
      ],
      "source": [
        "import random as rnd\n",
        "\n",
        "#corresponsables = [\"Pedo e Hilma\", \"Tatiana\", \"Jhair e Ingrid\"]\n",
        "\n",
        "#matrimonios = [\"Armando y Dairlis\", \"Carlos y Claudia\", \"Efraín y Lady\", \"Fernando y Laura\",\n",
        "#               \"José Israel y Yamile\", \"Joselito y Paulina\", \"José Armando e Ibeth\", \"Jose Martín y Maria Elda\",\n",
        "#               \"Juan y Margarita\", \"Luis Carlos y Patricia\", \"Orlando y Luz Amalia\", \"Pablo y María\",\n",
        "#               \"William y Briyid\"]\n",
        "\n",
        "#Solteros = [\"Angélica\", \"Aidee\", \"Belisario\", \"Camilo\", \"Cecilia\", \"Daniel\", \"German\",\n",
        "#            \"Jasbleidy\", \"Juan Esteban\", \"María Alejandra\", \"María Cely\", \"Mariana\",\n",
        "#            \"Mariangel\", \"Martha Ligia\", \"Nathalie\", \"Omaira\"]\n",
        "\n",
        "corresponsables = [\"Pedo e Hilma\", \"Jhair e Ingrid\"]\n",
        "\n",
        "matrimonios = [\"Armando y Dairlis\", \"Carlos y Claudia\", \"Fernando y Laura\",\n",
        "               \"José Israel y Yamile\", \"Joselito y Paulina\",\n",
        "               \"Juan y Margarita\", \"Luis Carlos y Patricia\", \"Orlando y Luz Amalia\",\n",
        "               \"Pablo y María\", \"William y Briyid\"]\n",
        "\n",
        "Solteros = [\"Angélica\", \"Aidee\", \"Camilo\", \"Cecilia\", \"Daniel\", \"German\",\n",
        "            \"Jasbleidy\", \"Juan Esteban\", \"María Alejandra\", \"María Cely\", \"Mariana\",\n",
        "            \"Mariangel\", \"Martha Ligia\", \"Nathalie\", \"Omaira\"]\n",
        "\n",
        "Hermanos = corresponsables + matrimonios + Solteros\n",
        "\n",
        "n = int(len(Hermanos)/4) #Número de hermanos por grupo\n",
        "\n",
        "r = rnd.sample(range(0, len(Hermanos)), n)\n",
        "\n",
        "def Grupos():\n",
        "  if int(len(Hermanos)/4) >= n:\n",
        "    for j in range(1, 5):\n",
        "      print(\"Grupo \", j, \"\\n\")\n",
        "      removed = []\n",
        "      r = rnd.sample(range(0, len(Hermanos)), n)\n",
        "      for i in r:\n",
        "        print(Hermanos[i])\n",
        "        removed.append(Hermanos[i])\n",
        "      for k in removed:\n",
        "        Hermanos.remove(k)\n",
        "      print(\"\\n\")\n",
        "  else:\n",
        "      print(\"Número de hermanos por grupo muy grande \\n\")\n",
        "  return\n",
        "Grupos()\n",
        "\n",
        "print(\"Nota: Los grupos se hacen con la misma cantidad de hermanos (matrimonios cuentan como 1), con lo que algunos hermanos quedan sin grupo.\")\n",
        "print(\"Se sugiere meter a los hermanos sin grupo para reforzar a los grupos que tienen hermanos que no asisten con frecuencia.\")\n",
        "print(\"Hermanos sin grupo: \", Hermanos)"
      ]
    }
  ]
}